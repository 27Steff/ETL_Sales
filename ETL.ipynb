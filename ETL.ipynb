{
  "nbformat": 4,
  "nbformat_minor": 0,
  "metadata": {
    "colab": {
      "provenance": [],
      "authorship_tag": "ABX9TyO52amXgvcNYzHyBDUQzysr"
    },
    "kernelspec": {
      "name": "python3",
      "display_name": "Python 3"
    },
    "language_info": {
      "name": "python"
    }
  },
  "cells": [
    {
      "cell_type": "code",
      "execution_count": null,
      "metadata": {
        "colab": {
          "base_uri": "https://localhost:8080/"
        },
        "id": "DXpJ0kabihrs",
        "outputId": "443a4454-0de0-4868-b766-4381089ce20d"
      },
      "outputs": [
        {
          "output_type": "stream",
          "name": "stdout",
          "text": [
            "[{\"id\": 1, \"day\": 10, \"month\": 1, \"year\": 2006}, {\"id\": 2, \"day\": 10, \"month\": 5, \"year\": 2002}, {\"id\": 3, \"day\": 1, \"month\": 8, \"year\": 2016}, {\"id\": 4, \"day\": 6, \"month\": 12, \"year\": 2013}, {\"id\": 5, \"day\": 8, \"month\": 6, \"year\": 2004}, {\"id\": 6, \"day\": 15, \"month\": 3, \"year\": 2012}, {\"id\": 7, \"day\": 30, \"month\": 9, \"year\": 2003}, {\"id\": 8, \"day\": 29, \"month\": 6, \"year\": 2013}, {\"id\": 9, \"day\": 9, \"month\": 5, \"year\": 2006}, {\"id\": 10, \"day\": 5, \"month\": 12, \"year\": 2000}, {\"id\": 11, \"day\": 15, \"month\": 12, \"year\": 2002}, {\"id\": 12, \"day\": 8, \"month\": 12, \"year\": 2016}, {\"id\": 13, \"day\": 22, \"month\": 9, \"year\": 2014}, {\"id\": 14, \"day\": 22, \"month\": 8, \"year\": 2018}, {\"id\": 15, \"day\": 16, \"month\": 12, \"year\": 2010}, {\"id\": 16, \"day\": 20, \"month\": 8, \"year\": 2017}, {\"id\": 17, \"day\": 29, \"month\": 5, \"year\": 2012}, {\"id\": 18, \"day\": 3, \"month\": 1, \"year\": 2020}, {\"id\": 19, \"day\": 21, \"month\": 10, \"year\": 2004}, {\"id\": 20, \"day\": 9, \"month\": 5, \"year\": 2011}, {\"id\": 21, \"day\": 24, \"month\": 4, \"year\": 2014}, {\"id\": 22, \"day\": 21, \"month\": 12, \"year\": 2002}, {\"id\": 23, \"day\": 29, \"month\": 9, \"year\": 2007}, {\"id\": 24, \"day\": 7, \"month\": 7, \"year\": 2013}, {\"id\": 25, \"day\": 25, \"month\": 3, \"year\": 2015}, {\"id\": 26, \"day\": 11, \"month\": 7, \"year\": 2015}, {\"id\": 27, \"day\": 17, \"month\": 7, \"year\": 2005}, {\"id\": 28, \"day\": 13, \"month\": 12, \"year\": 2001}, {\"id\": 29, \"day\": 11, \"month\": 6, \"year\": 2017}, {\"id\": 30, \"day\": 9, \"month\": 7, \"year\": 2002}, {\"id\": 31, \"day\": 31, \"month\": 3, \"year\": 2007}, {\"id\": 32, \"day\": 14, \"month\": 1, \"year\": 2012}, {\"id\": 33, \"day\": 26, \"month\": 5, \"year\": 2011}, {\"id\": 34, \"day\": 27, \"month\": 6, \"year\": 2019}, {\"id\": 35, \"day\": 12, \"month\": 12, \"year\": 2007}, {\"id\": 36, \"day\": 6, \"month\": 11, \"year\": 2020}, {\"id\": 37, \"day\": 1, \"month\": 4, \"year\": 2011}, {\"id\": 38, \"day\": 3, \"month\": 5, \"year\": 2007}, {\"id\": 39, \"day\": 4, \"month\": 11, \"year\": 2008}, {\"id\": 40, \"day\": 13, \"month\": 7, \"year\": 2009}, {\"id\": 41, \"day\": 5, \"month\": 11, \"year\": 2014}, {\"id\": 42, \"day\": 8, \"month\": 1, \"year\": 2003}, {\"id\": 43, \"day\": 29, \"month\": 7, \"year\": 2020}, {\"id\": 44, \"day\": 13, \"month\": 5, \"year\": 2011}, {\"id\": 45, \"day\": 2, \"month\": 4, \"year\": 2019}, {\"id\": 46, \"day\": 27, \"month\": 8, \"year\": 2004}, {\"id\": 47, \"day\": 6, \"month\": 7, \"year\": 2011}, {\"id\": 48, \"day\": 28, \"month\": 3, \"year\": 2002}, {\"id\": 49, \"day\": 13, \"month\": 8, \"year\": 2019}, {\"id\": 50, \"day\": 12, \"month\": 11, \"year\": 2008}, {\"id\": 51, \"day\": 21, \"month\": 2, \"year\": 2012}, {\"id\": 52, \"day\": 24, \"month\": 4, \"year\": 2002}, {\"id\": 53, \"day\": 14, \"month\": 5, \"year\": 2001}, {\"id\": 54, \"day\": 20, \"month\": 4, \"year\": 2015}, {\"id\": 55, \"day\": 9, \"month\": 11, \"year\": 2019}, {\"id\": 56, \"day\": 5, \"month\": 5, \"year\": 2011}, {\"id\": 57, \"day\": 10, \"month\": 12, \"year\": 2001}, {\"id\": 58, \"day\": 25, \"month\": 10, \"year\": 2007}, {\"id\": 59, \"day\": 22, \"month\": 4, \"year\": 2000}, {\"id\": 60, \"day\": 19, \"month\": 3, \"year\": 2013}, {\"id\": 61, \"day\": 28, \"month\": 7, \"year\": 2001}, {\"id\": 62, \"day\": 12, \"month\": 1, \"year\": 2002}, {\"id\": 63, \"day\": 12, \"month\": 5, \"year\": 2019}, {\"id\": 64, \"day\": 14, \"month\": 10, \"year\": 2009}, {\"id\": 65, \"day\": 8, \"month\": 1, \"year\": 2008}, {\"id\": 66, \"day\": 8, \"month\": 4, \"year\": 2000}, {\"id\": 67, \"day\": 22, \"month\": 3, \"year\": 2011}, {\"id\": 68, \"day\": 10, \"month\": 1, \"year\": 2005}, {\"id\": 69, \"day\": 8, \"month\": 7, \"year\": 2005}, {\"id\": 70, \"day\": 28, \"month\": 11, \"year\": 2017}, {\"id\": 71, \"day\": 19, \"month\": 2, \"year\": 2011}, {\"id\": 72, \"day\": 22, \"month\": 2, \"year\": 2011}, {\"id\": 73, \"day\": 13, \"month\": 11, \"year\": 2008}, {\"id\": 74, \"day\": 1, \"month\": 10, \"year\": 2002}, {\"id\": 75, \"day\": 4, \"month\": 11, \"year\": 2008}, {\"id\": 76, \"day\": 2, \"month\": 2, \"year\": 2000}, {\"id\": 77, \"day\": 31, \"month\": 12, \"year\": 2000}, {\"id\": 78, \"day\": 18, \"month\": 2, \"year\": 2007}, {\"id\": 79, \"day\": 7, \"month\": 8, \"year\": 2017}, {\"id\": 80, \"day\": 15, \"month\": 3, \"year\": 2015}, {\"id\": 81, \"day\": 30, \"month\": 3, \"year\": 2013}, {\"id\": 82, \"day\": 26, \"month\": 1, \"year\": 2000}, {\"id\": 83, \"day\": 22, \"month\": 12, \"year\": 2014}, {\"id\": 84, \"day\": 27, \"month\": 4, \"year\": 2017}, {\"id\": 85, \"day\": 1, \"month\": 6, \"year\": 2011}, {\"id\": 86, \"day\": 17, \"month\": 9, \"year\": 2013}, {\"id\": 87, \"day\": 28, \"month\": 10, \"year\": 2003}, {\"id\": 88, \"day\": 17, \"month\": 1, \"year\": 2014}, {\"id\": 89, \"day\": 15, \"month\": 11, \"year\": 2003}, {\"id\": 90, \"day\": 6, \"month\": 9, \"year\": 2008}, {\"id\": 91, \"day\": 26, \"month\": 6, \"year\": 2016}, {\"id\": 92, \"day\": 3, \"month\": 1, \"year\": 2004}, {\"id\": 93, \"day\": 15, \"month\": 7, \"year\": 2003}, {\"id\": 94, \"day\": 9, \"month\": 4, \"year\": 2000}, {\"id\": 95, \"day\": 15, \"month\": 9, \"year\": 2012}, {\"id\": 96, \"day\": 14, \"month\": 5, \"year\": 2005}, {\"id\": 97, \"day\": 10, \"month\": 3, \"year\": 2019}, {\"id\": 98, \"day\": 18, \"month\": 2, \"year\": 2007}, {\"id\": 99, \"day\": 16, \"month\": 8, \"year\": 2016}, {\"id\": 100, \"day\": 2, \"month\": 8, \"year\": 2000}, {\"id\": 101, \"day\": 24, \"month\": 6, \"year\": 2003}, {\"id\": 102, \"day\": 20, \"month\": 2, \"year\": 2010}, {\"id\": 103, \"day\": 21, \"month\": 1, \"year\": 2018}, {\"id\": 104, \"day\": 12, \"month\": 6, \"year\": 2004}, {\"id\": 105, \"day\": 1, \"month\": 5, \"year\": 2012}, {\"id\": 106, \"day\": 28, \"month\": 7, \"year\": 2005}, {\"id\": 107, \"day\": 6, \"month\": 5, \"year\": 2019}, {\"id\": 108, \"day\": 27, \"month\": 10, \"year\": 2009}, {\"id\": 109, \"day\": 8, \"month\": 7, \"year\": 2009}, {\"id\": 110, \"day\": 27, \"month\": 4, \"year\": 2012}, {\"id\": 111, \"day\": 26, \"month\": 12, \"year\": 2015}, {\"id\": 112, \"day\": 20, \"month\": 11, \"year\": 2018}, {\"id\": 113, \"day\": 12, \"month\": 10, \"year\": 2000}, {\"id\": 114, \"day\": 17, \"month\": 7, \"year\": 2016}, {\"id\": 115, \"day\": 22, \"month\": 1, \"year\": 2013}, {\"id\": 116, \"day\": 17, \"month\": 6, \"year\": 2007}, {\"id\": 117, \"day\": 22, \"month\": 4, \"year\": 2008}, {\"id\": 118, \"day\": 21, \"month\": 12, \"year\": 2004}, {\"id\": 119, \"day\": 22, \"month\": 10, \"year\": 2011}, {\"id\": 120, \"day\": 26, \"month\": 8, \"year\": 2005}, {\"id\": 121, \"day\": 5, \"month\": 7, \"year\": 2000}, {\"id\": 122, \"day\": 27, \"month\": 5, \"year\": 2002}, {\"id\": 123, \"day\": 15, \"month\": 3, \"year\": 2002}, {\"id\": 124, \"day\": 10, \"month\": 8, \"year\": 2003}, {\"id\": 125, \"day\": 16, \"month\": 2, \"year\": 2014}, {\"id\": 126, \"day\": 3, \"month\": 5, \"year\": 2005}, {\"id\": 127, \"day\": 16, \"month\": 11, \"year\": 2011}, {\"id\": 128, \"day\": 29, \"month\": 4, \"year\": 2010}, {\"id\": 129, \"day\": 3, \"month\": 12, \"year\": 2011}, {\"id\": 130, \"day\": 25, \"month\": 1, \"year\": 2005}, {\"id\": 131, \"day\": 24, \"month\": 12, \"year\": 2006}, {\"id\": 132, \"day\": 19, \"month\": 12, \"year\": 2011}, {\"id\": 133, \"day\": 5, \"month\": 10, \"year\": 2011}, {\"id\": 134, \"day\": 28, \"month\": 12, \"year\": 2010}, {\"id\": 135, \"day\": 29, \"month\": 1, \"year\": 2013}, {\"id\": 136, \"day\": 14, \"month\": 6, \"year\": 2014}, {\"id\": 137, \"day\": 4, \"month\": 12, \"year\": 2003}, {\"id\": 138, \"day\": 19, \"month\": 2, \"year\": 2018}, {\"id\": 139, \"day\": 27, \"month\": 4, \"year\": 2013}, {\"id\": 140, \"day\": 3, \"month\": 6, \"year\": 2001}, {\"id\": 141, \"day\": 9, \"month\": 2, \"year\": 2010}, {\"id\": 142, \"day\": 27, \"month\": 4, \"year\": 2007}, {\"id\": 143, \"day\": 5, \"month\": 9, \"year\": 2010}, {\"id\": 144, \"day\": 6, \"month\": 2, \"year\": 2019}, {\"id\": 145, \"day\": 4, \"month\": 3, \"year\": 2006}, {\"id\": 146, \"day\": 31, \"month\": 5, \"year\": 2020}, {\"id\": 147, \"day\": 25, \"month\": 4, \"year\": 2008}, {\"id\": 148, \"day\": 30, \"month\": 1, \"year\": 2011}, {\"id\": 149, \"day\": 3, \"month\": 10, \"year\": 2008}, {\"id\": 150, \"day\": 15, \"month\": 11, \"year\": 2013}, {\"id\": 151, \"day\": 19, \"month\": 12, \"year\": 2001}, {\"id\": 152, \"day\": 9, \"month\": 11, \"year\": 2020}, {\"id\": 153, \"day\": 23, \"month\": 10, \"year\": 2011}, {\"id\": 154, \"day\": 21, \"month\": 11, \"year\": 2017}, {\"id\": 155, \"day\": 20, \"month\": 3, \"year\": 2019}, {\"id\": 156, \"day\": 8, \"month\": 11, \"year\": 2012}, {\"id\": 157, \"day\": 31, \"month\": 10, \"year\": 2008}, {\"id\": 158, \"day\": 18, \"month\": 6, \"year\": 2002}, {\"id\": 159, \"day\": 27, \"month\": 6, \"year\": 2001}, {\"id\": 160, \"day\": 24, \"month\": 4, \"year\": 2006}, {\"id\": 161, \"day\": 25, \"month\": 8, \"year\": 2005}, {\"id\": 162, \"day\": 9, \"month\": 8, \"year\": 2002}, {\"id\": 163, \"day\": 1, \"month\": 8, \"year\": 2002}, {\"id\": 164, \"day\": 11, \"month\": 7, \"year\": 2008}, {\"id\": 165, \"day\": 27, \"month\": 3, \"year\": 2015}, {\"id\": 166, \"day\": 30, \"month\": 6, \"year\": 2001}, {\"id\": 167, \"day\": 30, \"month\": 11, \"year\": 2017}, {\"id\": 168, \"day\": 28, \"month\": 6, \"year\": 2020}, {\"id\": 169, \"day\": 5, \"month\": 8, \"year\": 2006}, {\"id\": 170, \"day\": 21, \"month\": 3, \"year\": 2015}, {\"id\": 171, \"day\": 26, \"month\": 10, \"year\": 2010}, {\"id\": 172, \"day\": 4, \"month\": 4, \"year\": 2001}, {\"id\": 173, \"day\": 15, \"month\": 9, \"year\": 2011}, {\"id\": 174, \"day\": 13, \"month\": 2, \"year\": 2000}, {\"id\": 175, \"day\": 19, \"month\": 11, \"year\": 2010}, {\"id\": 176, \"day\": 13, \"month\": 7, \"year\": 2019}, {\"id\": 177, \"day\": 25, \"month\": 9, \"year\": 2005}, {\"id\": 178, \"day\": 30, \"month\": 9, \"year\": 2017}, {\"id\": 179, \"day\": 1, \"month\": 12, \"year\": 2012}, {\"id\": 180, \"day\": 9, \"month\": 8, \"year\": 2004}, {\"id\": 181, \"day\": 4, \"month\": 7, \"year\": 2001}, {\"id\": 182, \"day\": 14, \"month\": 5, \"year\": 2019}, {\"id\": 183, \"day\": 19, \"month\": 11, \"year\": 2015}, {\"id\": 184, \"day\": 23, \"month\": 9, \"year\": 2011}, {\"id\": 185, \"day\": 21, \"month\": 1, \"year\": 2010}, {\"id\": 186, \"day\": 29, \"month\": 9, \"year\": 2004}, {\"id\": 187, \"day\": 23, \"month\": 10, \"year\": 2003}, {\"id\": 188, \"day\": 10, \"month\": 8, \"year\": 2020}, {\"id\": 189, \"day\": 17, \"month\": 8, \"year\": 2016}, {\"id\": 190, \"day\": 25, \"month\": 12, \"year\": 2015}, {\"id\": 191, \"day\": 25, \"month\": 5, \"year\": 2013}, {\"id\": 192, \"day\": 6, \"month\": 7, \"year\": 2006}, {\"id\": 193, \"day\": 3, \"month\": 8, \"year\": 2006}, {\"id\": 194, \"day\": 8, \"month\": 11, \"year\": 2004}, {\"id\": 195, \"day\": 8, \"month\": 10, \"year\": 2014}, {\"id\": 196, \"day\": 12, \"month\": 3, \"year\": 2004}, {\"id\": 197, \"day\": 21, \"month\": 11, \"year\": 2000}, {\"id\": 198, \"day\": 16, \"month\": 3, \"year\": 2018}, {\"id\": 199, \"day\": 9, \"month\": 6, \"year\": 2007}, {\"id\": 200, \"day\": 3, \"month\": 9, \"year\": 2010}]\n",
            "CSV file 'fact_sales.csv'.\n"
          ]
        }
      ],
      "source": [
        "import random\n",
        "from datetime import datetime, timedelta\n",
        "import json\n",
        "import csv\n",
        "import pandas as pd\n",
        "\n",
        "\n",
        "\n",
        "#  generate dates\n",
        "def generatedates(start, end):\n",
        "\n",
        "    randomdates = []\n",
        "    for i in range(200):\n",
        "        randomdate = start + timedelta(days=random.randint(0, (end - start).days))\n",
        "        dateobj = {\n",
        "            \"id\": i+1,\n",
        "            \"day\": randomdate.day,\n",
        "            \"month\": randomdate.month,\n",
        "            \"year\": randomdate.year\n",
        "        }\n",
        "        randomdates.append(dateobj)\n",
        "    return randomdates\n",
        "\n",
        "\n",
        "start = datetime(2000, 1, 1)\n",
        "end = datetime(2020, 12, 31)\n",
        "\n",
        "\n",
        "randomdates = generatedates(start, end)\n",
        "\n",
        "# Convert dates to JSON format\n",
        "json = json.dumps(randomdates)\n",
        "\n",
        "# Print the JSON data\n",
        "print(json)\n",
        "\n",
        "\n",
        "# Define the range\n",
        "id_clients = list(range(1, 20))\n",
        "id_stores = list(range(1, 16))\n",
        "id_meds = list(range(1, 20))\n",
        "id_dates = list(range(1, 200))\n",
        "id_shifts = list(range(1, 50))\n",
        "\n",
        "\n",
        "# Generate data\n",
        "\n",
        "data = []\n",
        "for i in range(300):\n",
        "    id_sale = i+1\n",
        "    id_client = random.choice(id_clients)\n",
        "    id_store = random.choice(id_stores)\n",
        "    id_med = random.choice(id_meds)\n",
        "    id_date = random.choice(id_dates)\n",
        "    id_shift = random.choice(id_shifts)\n",
        "    value_shift = round(random.uniform(20, 1000), 2)\n",
        "    data.append([id_sale, id_client, id_store, id_med, id_date, id_shift, value_shift])\n",
        "\n",
        "# Write the data to a CSV file\n",
        "with open('fact_sales.csv', 'w', newline='') as csvfile:\n",
        "    writer = csv.writer(csvfile)\n",
        "    writer.writerow(['id_sale', 'id_client', 'id_store', 'id_med', 'id_date', 'id_shifts', 'value_shifts'])\n",
        "    for row in data:\n",
        "        writer.writerow(row)\n",
        "\n",
        "print(\"CSV file 'fact_sales.csv'.\")\n",
        "\n",
        "\n",
        "#Converting JSON to CSV to use in VS Integration Services\n",
        "df = pd.read_json('Stores.json')\n",
        "df.to_csv('Stores.csv', index=False)\n",
        "\n",
        "\n",
        "df = pd.read_json('dates.json')\n",
        "df.to_csv('dates.csv', index=False)\n",
        "\n",
        "\n"
      ]
    }
  ]
}